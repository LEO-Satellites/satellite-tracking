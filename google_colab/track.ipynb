{
  "cells": [
    {
      "cell_type": "code",
      "execution_count": 1,
      "metadata": {
        "colab": {
          "base_uri": "https://localhost:8080/"
        },
        "id": "AJp0GU36twJT",
        "outputId": "5318dad2-8018-4fb7-c3d2-de3869c1d46a"
      },
      "outputs": [
        {
          "output_type": "stream",
          "name": "stdout",
          "text": [
            "env: JOBLIB_MULTIPROCESSING=1\n"
          ]
        }
      ],
      "source": [
        "# Enable parallel processing\n",
        "%env JOBLIB_MULTIPROCESSING=1\n",
        "import os\n",
        "import configparser\n",
        "\n",
        "from google.colab import files"
      ]
    },
    {
      "cell_type": "code",
      "execution_count": 2,
      "metadata": {
        "colab": {
          "base_uri": "https://localhost:8080/"
        },
        "id": "dzxZ0BMatwJU",
        "outputId": "2f2cbc24-484b-46b4-f6a1-7098927fbf59"
      },
      "outputs": [
        {
          "output_type": "stream",
          "name": "stdout",
          "text": [
            "fatal: destination path 'satellite-tracking' already exists and is not an empty directory.\n",
            "/content/satellite-tracking\n",
            "Looking in indexes: https://pypi.org/simple, https://us-python.pkg.dev/colab-wheels/public/simple/\n",
            "Requirement already satisfied: jedi in /usr/local/lib/python3.8/dist-packages (0.18.2)\n",
            "Requirement already satisfied: parso<0.9.0,>=0.8.0 in /usr/local/lib/python3.8/dist-packages (from jedi) (0.8.3)\n",
            "Looking in indexes: https://pypi.org/simple, https://us-python.pkg.dev/colab-wheels/public/simple/\n",
            "Requirement already satisfied: certifi==2021.10.8 in /usr/local/lib/python3.8/dist-packages (from -r requirements.txt (line 1)) (2021.10.8)\n",
            "Requirement already satisfied: charset-normalizer==2.0.12 in /usr/local/lib/python3.8/dist-packages (from -r requirements.txt (line 2)) (2.0.12)\n",
            "Requirement already satisfied: ephem==4.1.3 in /usr/local/lib/python3.8/dist-packages (from -r requirements.txt (line 3)) (4.1.3)\n",
            "Requirement already satisfied: idna==3.3 in /usr/local/lib/python3.8/dist-packages (from -r requirements.txt (line 4)) (3.3)\n",
            "Requirement already satisfied: numpy==1.22.3 in /usr/local/lib/python3.8/dist-packages (from -r requirements.txt (line 5)) (1.22.3)\n",
            "Requirement already satisfied: pandas==1.4.2 in /usr/local/lib/python3.8/dist-packages (from -r requirements.txt (line 6)) (1.4.2)\n",
            "Requirement already satisfied: pyorbital==1.7.1 in /usr/local/lib/python3.8/dist-packages (from -r requirements.txt (line 7)) (1.7.1)\n",
            "Requirement already satisfied: python-dateutil==2.8.2 in /usr/local/lib/python3.8/dist-packages (from -r requirements.txt (line 8)) (2.8.2)\n",
            "Requirement already satisfied: pytz==2022.1 in /usr/local/lib/python3.8/dist-packages (from -r requirements.txt (line 9)) (2022.1)\n",
            "Requirement already satisfied: requests==2.27.1 in /usr/local/lib/python3.8/dist-packages (from -r requirements.txt (line 10)) (2.27.1)\n",
            "Requirement already satisfied: scipy==1.8.0 in /usr/local/lib/python3.8/dist-packages (from -r requirements.txt (line 11)) (1.8.0)\n",
            "Requirement already satisfied: six==1.16.0 in /usr/local/lib/python3.8/dist-packages (from -r requirements.txt (line 12)) (1.16.0)\n",
            "Requirement already satisfied: urllib3==1.26.9 in /usr/local/lib/python3.8/dist-packages (from -r requirements.txt (line 13)) (1.26.9)\n"
          ]
        }
      ],
      "source": [
        "!git clone https://github.com/CLEOsat-group/satellite-tracking.git\n",
        "%cd satellite-tracking\n",
        "# Install the dependencies listed in requirements.txt\n",
        "!pip install jedi\n",
        "!pip install -r requirements.txt"
      ]
    },
    {
      "cell_type": "code",
      "execution_count": 3,
      "metadata": {
        "id": "1g06nqBytwJV"
      },
      "outputs": [],
      "source": [
        "config: configparser.ConfigParser(\n",
        "    interpolation=configparser.ExtendedInterpolation()\n",
        ")\n",
        "\n",
        "with open('track.ini', 'r') as f:\n",
        "    config_str = f.read()\n",
        "\n",
        "# parse the contents of the track.ini file\n",
        "config = configparser.ConfigParser()\n",
        "config.read_string(config_str)"
      ]
    },
    {
      "cell_type": "markdown",
      "metadata": {
        "id": "GExHWqpDtwJV"
      },
      "source": [
        "## Set configuration file"
      ]
    },
    {
      "cell_type": "code",
      "execution_count": 4,
      "metadata": {
        "id": "7avsbVBBtwJW"
      },
      "outputs": [],
      "source": [
        "# [time] section\n",
        "config['time']['year'] = '2023'\n",
        "config['time']['month'] = '1'\n",
        "config['time']['day'] = '12'\n",
        "config['time']['delta'] = '60'\n",
        "config['time']['window'] = 'morning'\n",
        "\n",
        "# [observation] section\n",
        "config['observation']['observatory'] = \"lasilla\"\n",
        "config['observation']['satellite'] = \"oneweb\"\n",
        "config['observation']['lowest_altitude_satellite'] = '30'\n",
        "config['observation']['sun_zenith_lowest'] = '100'\n",
        "config['observation']['sun_zenith_highest'] = '111'\n",
        "\n",
        "\n",
        "# [tle] section\n",
        "config['tle']['download'] = 'True'\n",
        "# if download = False, load file below\n",
        "config['tle']['name'] = 'tle_starlink_2022-10-11_13_12_01.txt'\n",
        "\n",
        "# [directory] section\n",
        "# DO NOT MODIFY THIS SECTION\n",
        "config['directory']['work'] = os.getcwd()\n",
        "config['directory']['output'] = f\"{config['directory']['work']}/output\"\n",
        "\n",
        "# [file] section\n",
        "config['file']['simple'] = 'observing-details'\n",
        "config['file']['complete'] = 'visible'\n",
        "\n",
        "# [configuration] section\n",
        "config['configuration']['processes'] = '12'\n",
        "\n",
        "# write the modified configuration back to a file\n",
        "with open('track.ini', 'w') as f:\n",
        "    config.write(f)"
      ]
    },
    {
      "cell_type": "markdown",
      "metadata": {
        "id": "h4I3MD6-twJW"
      },
      "source": [
        "## Run tracking code"
      ]
    },
    {
      "cell_type": "code",
      "execution_count": 5,
      "metadata": {
        "colab": {
          "base_uri": "https://localhost:8080/"
        },
        "id": "wgrDSJ6QtwJW",
        "outputId": "f10907c0-36cd-4817-ebde-875879e178d5"
      },
      "outputs": [
        {
          "output_type": "stream",
          "name": "stdout",
          "text": [
            "Fetch TLE file\n",
            "Get list of satellites from TLE file\n",
            "Compute visibility of satellite\n",
            "Save data\n",
            "Running time: 316.36 [s]\n"
          ]
        }
      ],
      "source": [
        "!python track.py"
      ]
    },
    {
      "cell_type": "code",
      "source": [
        "!zip -j -r output_tracking.zip /content/satellite-tracking/output/\n",
        "files.download('output_tracking.zip')\n"
      ],
      "metadata": {
        "colab": {
          "base_uri": "https://localhost:8080/",
          "height": 138
        },
        "id": "wGt-MAeWw8eW",
        "outputId": "4b980605-a436-42d1-96f1-7668c4f540d0"
      },
      "execution_count": 7,
      "outputs": [
        {
          "output_type": "stream",
          "name": "stdout",
          "text": [
            "updating: track.ini (deflated 41%)\n",
            "updating: tle_oneweb_2023-01-09_01:30:56.txt (deflated 69%)\n",
            "updating: visible.txt (deflated 67%)\n",
            "updating: observing-details.txt (deflated 65%)\n",
            "updating: unique_tle_oneweb_2023-01-09_01:30:56.txt (deflated 68%)\n",
            "  adding: tle_oneweb_2023-01-09_01:41:14.txt (deflated 69%)\n",
            "  adding: unique_tle_oneweb_2023-01-09_01:41:14.txt (deflated 68%)\n"
          ]
        },
        {
          "output_type": "display_data",
          "data": {
            "text/plain": [
              "<IPython.core.display.Javascript object>"
            ],
            "application/javascript": [
              "\n",
              "    async function download(id, filename, size) {\n",
              "      if (!google.colab.kernel.accessAllowed) {\n",
              "        return;\n",
              "      }\n",
              "      const div = document.createElement('div');\n",
              "      const label = document.createElement('label');\n",
              "      label.textContent = `Downloading \"${filename}\": `;\n",
              "      div.appendChild(label);\n",
              "      const progress = document.createElement('progress');\n",
              "      progress.max = size;\n",
              "      div.appendChild(progress);\n",
              "      document.body.appendChild(div);\n",
              "\n",
              "      const buffers = [];\n",
              "      let downloaded = 0;\n",
              "\n",
              "      const channel = await google.colab.kernel.comms.open(id);\n",
              "      // Send a message to notify the kernel that we're ready.\n",
              "      channel.send({})\n",
              "\n",
              "      for await (const message of channel.messages) {\n",
              "        // Send a message to notify the kernel that we're ready.\n",
              "        channel.send({})\n",
              "        if (message.buffers) {\n",
              "          for (const buffer of message.buffers) {\n",
              "            buffers.push(buffer);\n",
              "            downloaded += buffer.byteLength;\n",
              "            progress.value = downloaded;\n",
              "          }\n",
              "        }\n",
              "      }\n",
              "      const blob = new Blob(buffers, {type: 'application/binary'});\n",
              "      const a = document.createElement('a');\n",
              "      a.href = window.URL.createObjectURL(blob);\n",
              "      a.download = filename;\n",
              "      div.appendChild(a);\n",
              "      a.click();\n",
              "      div.remove();\n",
              "    }\n",
              "  "
            ]
          },
          "metadata": {}
        },
        {
          "output_type": "display_data",
          "data": {
            "text/plain": [
              "<IPython.core.display.Javascript object>"
            ],
            "application/javascript": [
              "download(\"download_7442fab5-5bf9-4761-bab0-0870eaf2995d\", \"output_tracking.zip\", 124990)"
            ]
          },
          "metadata": {}
        }
      ]
    },
    {
      "cell_type": "code",
      "source": [],
      "metadata": {
        "id": "x5Jmt2Utyarj"
      },
      "execution_count": 7,
      "outputs": []
    }
  ],
  "metadata": {
    "kernelspec": {
      "display_name": "Python 3",
      "language": "python",
      "name": "python3"
    },
    "language_info": {
      "codemirror_mode": {
        "name": "ipython",
        "version": 3
      },
      "file_extension": ".py",
      "mimetype": "text/x-python",
      "name": "python",
      "nbconvert_exporter": "python",
      "pygments_lexer": "ipython3",
      "version": "3.10.6"
    },
    "orig_nbformat": 4,
    "vscode": {
      "interpreter": {
        "hash": "916dbcbb3f70747c44a77c7bcd40155683ae19c65e1c03b4aa3499c5328201f1"
      }
    },
    "colab": {
      "provenance": []
    }
  },
  "nbformat": 4,
  "nbformat_minor": 0
}