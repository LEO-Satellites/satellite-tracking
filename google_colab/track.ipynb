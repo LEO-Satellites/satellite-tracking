{
 "cells": [
  {
   "cell_type": "code",
   "execution_count": 1,
   "metadata": {},
   "outputs": [],
   "source": [
    "import os\n",
    "import configparser"
   ]
  },
  {
   "cell_type": "code",
   "execution_count": 3,
   "metadata": {},
   "outputs": [
    {
     "name": "stdout",
     "output_type": "stream",
     "text": [
      "fatal: destination path 'satellite-tracking' already exists and is not an empty directory.\n",
      "/home/edgar/gdrive/ai/portfolio/cleo-sat/satellite-tracking/tests/satellite-tracking\n"
     ]
    }
   ],
   "source": [
    "!git clone https://github.com/CLEOsat-group/satellite-tracking.git\n",
    "%cd satellite-tracking\n",
    "# Install the dependencies listed in requirements.txt\n",
    "# !pip install -r requirements.txt"
   ]
  },
  {
   "cell_type": "code",
   "execution_count": 4,
   "metadata": {},
   "outputs": [
    {
     "name": "stdout",
     "output_type": "stream",
     "text": [
      "/home/edgar/gdrive/ai/portfolio/cleo-sat/satellite-tracking/tests/satellite-tracking\n"
     ]
    }
   ],
   "source": [
    "config: configparser.ConfigParser(\n",
    "    interpolation=configparser.ExtendedInterpolation()\n",
    ")\n",
    "\n",
    "with open('track.ini', 'r') as f:\n",
    "    config_str = f.read()\n",
    "\n",
    "# parse the contents of the track.ini file\n",
    "config = configparser.ConfigParser()\n",
    "config.read_string(config_str)"
   ]
  },
  {
   "attachments": {},
   "cell_type": "markdown",
   "metadata": {},
   "source": [
    "## Set configuration file"
   ]
  },
  {
   "cell_type": "code",
   "execution_count": null,
   "metadata": {},
   "outputs": [],
   "source": [
    "# [time] section\n",
    "config['time']['year'] = '2023'\n",
    "config['time']['month'] = '1'\n",
    "config['time']['day'] = '12'\n",
    "config['time']['delta'] = '60'\n",
    "config['time']['window'] = 'morning'\n",
    "\n",
    "# [observation] section\n",
    "config['observation']['observatory'] = \"lasilla\"\n",
    "config['observation']['satellite'] = \"oneweb\"\n",
    "config['observation']['lowest_altitude_satellite'] = '30'\n",
    "config['observation']['sun_zenith_lowest'] = '100'\n",
    "config['observation']['sun_zenith_highest'] = '111'\n",
    "\n",
    "\n",
    "# [tle] section\n",
    "config['tle']['download'] = 'True'\n",
    "# if download = False, load file below\n",
    "config['tle']['name'] = 'tle_starlink_2022-10-11_13_12_01.txt'\n",
    "\n",
    "# [directory] section\n",
    "config['directory']['work'] = os.getcwd()\n",
    "config['directory']['output'] = f\"{config['directory']['work']}/my_output\"\n",
    "\n",
    "# [file] section\n",
    "config['file']['simple'] = 'observing-details'\n",
    "config['file']['complete'] = 'visible'\n",
    "\n",
    "# [configuration] section\n",
    "config['configuration']['processes'] = '12'\n",
    "\n",
    "# write the modified configuration back to a file\n",
    "with open('track.ini', 'w') as f:\n",
    "    config.write(f)\n",
    "\n",
    "print(config['directory']['work'])"
   ]
  },
  {
   "attachments": {},
   "cell_type": "markdown",
   "metadata": {},
   "source": [
    "## Run tracking code"
   ]
  },
  {
   "cell_type": "code",
   "execution_count": 5,
   "metadata": {},
   "outputs": [
    {
     "name": "stdout",
     "output_type": "stream",
     "text": [
      "Fetch TLE file\n",
      "Get list of satellites from TLE file\n",
      "Compute visibility of satellite\n",
      "Save dataisibility of: ONEWEB-0522-ID-0451Compute visibility of: ONEWEB-0024-ID-0012\n",
      "Running time: 33.09 [s]\n"
     ]
    }
   ],
   "source": [
    "!python3 track.py"
   ]
  },
  {
   "cell_type": "code",
   "execution_count": null,
   "metadata": {},
   "outputs": [],
   "source": []
  }
 ],
 "metadata": {
  "kernelspec": {
   "display_name": "Python 3",
   "language": "python",
   "name": "python3"
  },
  "language_info": {
   "codemirror_mode": {
    "name": "ipython",
    "version": 3
   },
   "file_extension": ".py",
   "mimetype": "text/x-python",
   "name": "python",
   "nbconvert_exporter": "python",
   "pygments_lexer": "ipython3",
   "version": "3.10.6"
  },
  "orig_nbformat": 4,
  "vscode": {
   "interpreter": {
    "hash": "916dbcbb3f70747c44a77c7bcd40155683ae19c65e1c03b4aa3499c5328201f1"
   }
  }
 },
 "nbformat": 4,
 "nbformat_minor": 2
}
